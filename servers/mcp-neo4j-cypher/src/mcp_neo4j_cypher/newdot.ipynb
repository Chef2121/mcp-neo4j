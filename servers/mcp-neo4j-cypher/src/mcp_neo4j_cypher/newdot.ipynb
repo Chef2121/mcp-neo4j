{
 "cells": [
  {
   "cell_type": "code",
   "execution_count": 1,
   "id": "c35c0dfb",
   "metadata": {},
   "outputs": [],
   "source": [
    "# Cell 1 - Imports and Setup\n",
    "from fastmcp import Client\n",
    "import anthropic\n",
    "import os\n",
    "import json\n",
    "from dotenv import load_dotenv\n",
    "import asyncio\n",
    "\n",
    "load_dotenv()\n",
    "\n",
    "# Initialize clients\n",
    "client = Client(\"C:/Users/danie/Documents/internship/KG-road/mcp-neo4j/servers/mcp-neo4j-cypher/src/mcp_neo4j_cypher/run_mcp_server.py\")\n",
    "llm_async = anthropic.AsyncAnthropic(api_key=os.getenv(\"ANTHROPI_API_KEY\"))\n",
    "LLM_MODEL = \"claude-3-5-haiku-latest\""
   ]
  },
  {
   "cell_type": "code",
   "execution_count": 2,
   "id": "4c27905e",
   "metadata": {},
   "outputs": [],
   "source": [
    "\n",
    "async def main():\n",
    "    # Connect via stdio to a local script\n",
    "    async with client:\n",
    "        tools = await client.list_tools()\n",
    "        print(f\"Available tools: {tools}\")\n",
    "\n"
   ]
  },
  {
   "cell_type": "code",
   "execution_count": 3,
   "id": "635140ee",
   "metadata": {},
   "outputs": [],
   "source": [
    "schema = {\n",
    "    \"nodes\": [\n",
    "        {\n",
    "            \"label\": \"event_record\",\n",
    "            \"properties\": [\"tran_date\", \"event_no\", \"tran_time\", \"alarm_no\", \"assignee\", \"auto_close\", \"auto_update\", \"cause\", \"cause_oth\", \"congt_end_time\", \"congt_start_time\", \"created_by\", \"created_date\", \"det_time\", \"direction\", \"direction_desc\", \"dist_to_upnode\", \"dn_link_id\", \"dn_node_desc\", \"dn_node_id\", \"dn_node_site_id\", \"dn_point\", \"end_time\", \"end_x_coor\", \"end_y_coor\", \"eqt_alarm_id\", \"event_aware_time\", \"event_desc\", \"event_flag\", \"event_icon\", \"event_over_time\", \"event_severity\", \"event_state\", \"event_sub_type_id\", \"event_type_id\", \"external_event_id\", \"id\", \"idle_job_id\", \"idle_trigger_id\", \"is_congt\", \"is_obsolete\", \"lane_blockage\", \"lane_blockage_time\", \"loc_code\", \"loc_desc\", \"loc_ent_exit\", \"loc_type\", \"notify_resp_time\", \"on_scene_time\", \"operation\", \"plan_auto_activate\", \"plan_delay_time\", \"plan_request_id\", \"plan_status\", \"q_end_link_id\", \"q_end_point\", \"q_end_x_coor\", \"q_end_y_coor\", \"q_len_chng_rate\", \"q_length\", \"report_contact_name\", \"report_contact_number\", \"road_clear_time\", \"road_code\", \"road_name\", \"rsp_dispatch_status\", \"sensitivity_level\", \"source\", \"source_oth\", \"specific_data\", \"start_lsn\", \"start_time\", \"start_x_coor\", \"start_y_coor\", \"temp_event_no\", \"tunnel_x\", \"tunnel_y\", \"up_link_id\", \"up_node_desc\", \"up_node_id\", \"up_node_site_id\", \"up_point\", \"updated_by\", \"updated_date\", \"version\", \"zone_id\"]\n",
    "        },\n",
    "        {\n",
    "            \"label\": \"event_plan\",\n",
    "            \"properties\": [\"tran_date\", \"id\", \"tran_time\", \"created_by\", \"created_date\", \"eva_result\", \"event_id\", \"exp_plan_id\", \"implemented_date\", \"is_implemented\", \"is_obsolete\", \"is_predef_plan\", \"is_revert_plan\", \"linked_event_id\", \"operation\", \"plan_active_time\", \"plan_request_id\", \"plan_status\", \"plan_type\", \"response_no\", \"start_lsn\", \"updated_by\", \"updated_date\", \"version\"]\n",
    "        },\n",
    "        {\n",
    "            \"label\": \"event_plan_command\",\n",
    "            \"properties\": [\"tran_date\", \"id\", \"tran_time\", \"ack\", \"cmd_id\", \"cmd_status\", \"created_by\", \"created_date\", \"eqt_ctrl_type\", \"eqt_site_id\", \"is_obsolete\", \"operation\", \"plan_id\", \"start_lsn\", \"sys_id\", \"updated_by\", \"updated_date\", \"version\", \"eqtNo\", \"eqtType\", \"msgTypeId\", \"msgDesc1\", \"msgDesc2\"]\n",
    "        },\n",
    "        {\n",
    "            \"label\": \"VMS\",\n",
    "            \"properties\": [\"ID\", \"EQT_NO\", \"EQT_EXT_ID\", \"EQT_TYPE\", \"ROAD_NAME\", \"ROAD_CAT\", \"LONGITUDE\", \"LATITUDE\", \"HEIGHT\", \"SITE_ID\", \"SEGMENT_ID\", \"LINK_ID\", \"DIST_TO_UPNODE\", \"ROAD_CODE\", \"DIR\"]\n",
    "        }\n",
    "    ],\n",
    "    \"relationships\": [\n",
    "        {\n",
    "            \"type\": \"HAS_PLAN\",\n",
    "            \"from\": \"event record\",\n",
    "            \"to\": \"event plan\",\n",
    "            \"properties\": []\n",
    "        },\n",
    "        {\n",
    "            \"type\": \"HAS_COMMAND\",\n",
    "            \"from\": \"event plan\",\n",
    "            \"to\": \"event plan command\",\n",
    "            \"properties\": []\n",
    "        },\n",
    "        {\n",
    "            \"type\": \"CONTROLS_VMS\",\n",
    "            \"from\": \"event plan command\",\n",
    "            \"to\": \"VMS\",\n",
    "            \"properties\": []\n",
    "        }\n",
    "    ]\n",
    "}"
   ]
  },
  {
   "cell_type": "code",
   "execution_count": 4,
   "id": "1395f7bf",
   "metadata": {},
   "outputs": [],
   "source": [
    "# Cell 2 - Prompts\n",
    "CYPHER_GENERATION_PROMPT = \"\"\"\n",
    "Your role is to generate context text from the Knowledge graph stored in the neo4j database based on the query given by the user\n",
    "Only use the nodes, node properties, relationships and relationship properties from the {schema}\n",
    "DO NOT create your own nodes, node properites, relationships and relationship properties\n",
    "To search and read into the NEO4J knowledge graph utilize the cypher query format\n",
    "an example is \"MATCH (n) RETURN (n) LIMIT 25\" to find a node\n",
    "Utilize \"WHERE n.property = value RETURN (n)\" to find the node with such property\n",
    "\"\"\"\n",
    "\n",
    "ITERATIVE_CYPHER_GENERATION_PROMPT = \"\"\"\n",
    "...your existing ITERATIVE_CYPHER_GENERATION_PROMPT...\n",
    "\"\"\""
   ]
  },
  {
   "cell_type": "code",
   "execution_count": 5,
   "id": "ae882c74",
   "metadata": {},
   "outputs": [],
   "source": [
    "# Cell 3 - CypherAgent Class\n",
    "class CypherAgent:\n",
    "    def __init__(self, client):\n",
    "        self.client = client\n",
    "        self.schema = None\n",
    "    \n",
    "    async def initialize(self):\n",
    "        self.schema = await self.client.call_tool(\"get_neo4j_schema\", {})\n",
    "    \n",
    "    # Rest of your CypherAgent class methods..."
   ]
  },
  {
   "cell_type": "code",
   "execution_count": 6,
   "id": "a2003318",
   "metadata": {},
   "outputs": [
    {
     "ename": "IndentationError",
     "evalue": "expected an indented block after function definition on line 2 (1491664559.py, line 5)",
     "output_type": "error",
     "traceback": [
      "\u001b[1;36m  Cell \u001b[1;32mIn[6], line 5\u001b[1;36m\u001b[0m\n\u001b[1;33m    async def generate_answer(question: str, context: str) -> str:\u001b[0m\n\u001b[1;37m    ^\u001b[0m\n\u001b[1;31mIndentationError\u001b[0m\u001b[1;31m:\u001b[0m expected an indented block after function definition on line 2\n"
     ]
    }
   ],
   "source": [
    "# Cell 4 - Helper Functions\n",
    "def format_context(query_result) -> str:\n",
    "    # Your format_context function...\n",
    "\n",
    "async def generate_answer(question: str, context: str) -> str:\n",
    "    # Your generate_answer function..."
   ]
  },
  {
   "cell_type": "code",
   "execution_count": null,
   "id": "0132280e",
   "metadata": {},
   "outputs": [],
   "source": [
    "# Cell 5 - RAG Function\n",
    "async def rag(agent):\n",
    "    # Your rag function..."
   ]
  },
  {
   "cell_type": "code",
   "execution_count": null,
   "id": "e37c7f26",
   "metadata": {},
   "outputs": [],
   "source": [
    "# Cell 6 - Main Function and Execution\n",
    "async def main():\n",
    "    async with client:\n",
    "        print(\"=\"*50)\n",
    "        print(\"Neo4j RAG System Initialized\")\n",
    "        print(\"=\"*50)\n",
    "    \n",
    "        agent = CypherAgent(client)\n",
    "        await agent.initialize()\n",
    "        print(\" Database schema loaded\")\n",
    "    \n",
    "        while await rag(agent):\n",
    "            continue\n",
    "\n",
    "# For Jupyter, you can run this directly:\n",
    "await main()"
   ]
  }
 ],
 "metadata": {
  "kernelspec": {
   "display_name": "Python 3",
   "language": "python",
   "name": "python3"
  },
  "language_info": {
   "codemirror_mode": {
    "name": "ipython",
    "version": 3
   },
   "file_extension": ".py",
   "mimetype": "text/x-python",
   "name": "python",
   "nbconvert_exporter": "python",
   "pygments_lexer": "ipython3",
   "version": "3.10.11"
  }
 },
 "nbformat": 4,
 "nbformat_minor": 5
}
